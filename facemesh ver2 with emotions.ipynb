{
 "cells": [
  {
   "cell_type": "code",
   "execution_count": 1,
   "metadata": {},
   "outputs": [
    {
     "name": "stdout",
     "output_type": "stream",
     "text": [
      "Defaulting to user installation because normal site-packages is not writeable\n",
      "Requirement already satisfied: mediapipe in c:\\users\\ryujin\\appdata\\roaming\\python\\python310\\site-packages (0.8.11)\n",
      "Requirement already satisfied: opencv-contrib-python in c:\\users\\ryujin\\appdata\\roaming\\python\\python310\\site-packages (from mediapipe) (4.8.0.74)\n",
      "Requirement already satisfied: absl-py in c:\\users\\ryujin\\appdata\\roaming\\python\\python310\\site-packages (from mediapipe) (1.4.0)\n",
      "Requirement already satisfied: matplotlib in c:\\users\\ryujin\\appdata\\roaming\\python\\python310\\site-packages (from mediapipe) (3.7.2)\n",
      "Requirement already satisfied: numpy in c:\\users\\ryujin\\appdata\\roaming\\python\\python310\\site-packages (from mediapipe) (1.23.4)\n",
      "Requirement already satisfied: protobuf<4,>=3.11 in c:\\users\\ryujin\\appdata\\roaming\\python\\python310\\site-packages (from mediapipe) (3.20.3)\n",
      "Requirement already satisfied: attrs>=19.1.0 in c:\\users\\ryujin\\appdata\\roaming\\python\\python310\\site-packages (from mediapipe) (23.1.0)\n",
      "Requirement already satisfied: pillow>=6.2.0 in c:\\users\\ryujin\\appdata\\roaming\\python\\python310\\site-packages (from matplotlib->mediapipe) (9.2.0)\n",
      "Requirement already satisfied: fonttools>=4.22.0 in c:\\users\\ryujin\\appdata\\roaming\\python\\python310\\site-packages (from matplotlib->mediapipe) (4.42.0)\n",
      "Requirement already satisfied: pyparsing<3.1,>=2.3.1 in c:\\users\\ryujin\\appdata\\roaming\\python\\python310\\site-packages (from matplotlib->mediapipe) (3.0.9)\n",
      "Requirement already satisfied: python-dateutil>=2.7 in c:\\users\\ryujin\\appdata\\roaming\\python\\python310\\site-packages (from matplotlib->mediapipe) (2.8.2)\n",
      "Requirement already satisfied: kiwisolver>=1.0.1 in c:\\users\\ryujin\\appdata\\roaming\\python\\python310\\site-packages (from matplotlib->mediapipe) (1.4.4)\n",
      "Requirement already satisfied: contourpy>=1.0.1 in c:\\users\\ryujin\\appdata\\roaming\\python\\python310\\site-packages (from matplotlib->mediapipe) (1.1.0)\n",
      "Requirement already satisfied: packaging>=20.0 in c:\\users\\ryujin\\appdata\\roaming\\python\\python310\\site-packages (from matplotlib->mediapipe) (21.3)\n",
      "Requirement already satisfied: cycler>=0.10 in c:\\users\\ryujin\\appdata\\roaming\\python\\python310\\site-packages (from matplotlib->mediapipe) (0.11.0)\n",
      "Requirement already satisfied: six>=1.5 in c:\\users\\ryujin\\appdata\\roaming\\python\\python310\\site-packages (from python-dateutil>=2.7->matplotlib->mediapipe) (1.16.0)\n"
     ]
    },
    {
     "name": "stderr",
     "output_type": "stream",
     "text": [
      "\n",
      "[notice] A new release of pip available: 22.2.1 -> 25.0.1\n",
      "[notice] To update, run: python.exe -m pip install --upgrade pip\n"
     ]
    }
   ],
   "source": [
    "! pip install mediapipe"
   ]
  },
  {
   "cell_type": "code",
   "execution_count": null,
   "metadata": {},
   "outputs": [],
   "source": [
    "import cv2  \n",
    "import mediapipe as mp\n",
    "mp_face_detection = mp.solutions.face_detection\n",
    "mp_drawing = mp.solutions.drawing_utils"
   ]
  },
  {
   "cell_type": "code",
   "execution_count": 38,
   "metadata": {},
   "outputs": [],
   "source": [
    "import cv2\n",
    "import mediapipe as mp\n",
    "\n",
    "mp_drawing = mp.solutions.drawing_utils\n",
    "mp_face_mesh = mp.solutions.face_mesh\n",
    "\n",
    "# Define drawing styles\n",
    "face_spec = mp_drawing.DrawingSpec(color=(255, 255, 255), thickness=1, circle_radius=1)  # White for face mesh\n",
    "eyebrow_left_spec = mp_drawing.DrawingSpec(color=(0, 255, 0), thickness=2, circle_radius=1)  # Green for left eyebrow\n",
    "eyebrow_right_spec = mp_drawing.DrawingSpec(color=(255, 0, 0), thickness=2, circle_radius=1)  # Red for right eyebrow\n",
    "iris_left_spec = mp_drawing.DrawingSpec(color=(0, 255, 0), thickness=2, circle_radius=2)  # Green for left iris\n",
    "iris_right_spec = mp_drawing.DrawingSpec(color=(255, 0, 0), thickness=2, circle_radius=2)  # Red for right iris\n",
    "\n",
    "cap = cv2.VideoCapture(0)\n",
    "\n",
    "with mp_face_mesh.FaceMesh(\n",
    "    max_num_faces=1,\n",
    "    refine_landmarks=True,\n",
    "    min_detection_confidence=0.5,\n",
    "    min_tracking_confidence=0.5) as face_mesh:\n",
    "    \n",
    "    while cap.isOpened():\n",
    "        success, image = cap.read()\n",
    "        if not success:\n",
    "            print(\"Ignoring empty camera frame.\")\n",
    "            continue\n",
    "\n",
    "        # Convert the image color space\n",
    "        image = cv2.cvtColor(cv2.flip(image, 1), cv2.COLOR_BGR2RGB)\n",
    "        image.flags.writeable = False\n",
    "        results = face_mesh.process(image)\n",
    "\n",
    "        image.flags.writeable = True\n",
    "        image = cv2.cvtColor(image, cv2.COLOR_RGB2BGR)\n",
    "\n",
    "        if results.multi_face_landmarks:\n",
    "            for face_landmarks in results.multi_face_landmarks:\n",
    "                # Draw full face mesh (white)\n",
    "                mp_drawing.draw_landmarks(\n",
    "                    image=image,\n",
    "                    landmark_list=face_landmarks,\n",
    "                    connections=mp_face_mesh.FACEMESH_TESSELATION,\n",
    "                    landmark_drawing_spec=face_spec,\n",
    "                    connection_drawing_spec=face_spec)\n",
    "\n",
    "                # Draw face contours (white)\n",
    "                mp_drawing.draw_landmarks(\n",
    "                    image=image,\n",
    "                    landmark_list=face_landmarks,\n",
    "                    connections=mp_face_mesh.FACEMESH_CONTOURS,\n",
    "                    landmark_drawing_spec=face_spec,\n",
    "                    connection_drawing_spec=face_spec)\n",
    "\n",
    "                # Draw left eyebrow (green)\n",
    "                mp_drawing.draw_landmarks(\n",
    "                    image=image,\n",
    "                    landmark_list=face_landmarks,\n",
    "                    connections=mp_face_mesh.FACEMESH_LEFT_EYEBROW,\n",
    "                    landmark_drawing_spec=eyebrow_left_spec,\n",
    "                    connection_drawing_spec=eyebrow_left_spec)\n",
    "\n",
    "                # Draw right eyebrow (red)\n",
    "                mp_drawing.draw_landmarks(\n",
    "                    image=image,\n",
    "                    landmark_list=face_landmarks,\n",
    "                    connections=mp_face_mesh.FACEMESH_RIGHT_EYEBROW,\n",
    "                    landmark_drawing_spec=eyebrow_right_spec,\n",
    "                    connection_drawing_spec=eyebrow_right_spec)\n",
    "\n",
    "                # Draw left iris (green)\n",
    "                mp_drawing.draw_landmarks(\n",
    "                    image=image,\n",
    "                    landmark_list=face_landmarks,\n",
    "                    connections=mp_face_mesh.FACEMESH_LEFT_IRIS,\n",
    "                    landmark_drawing_spec=iris_left_spec,\n",
    "                    connection_drawing_spec=iris_left_spec)\n",
    "\n",
    "                # Draw right iris (red)\n",
    "                mp_drawing.draw_landmarks(\n",
    "                    image=image,\n",
    "                    landmark_list=face_landmarks,\n",
    "                    connections=mp_face_mesh.FACEMESH_RIGHT_IRIS,\n",
    "                    landmark_drawing_spec=iris_right_spec,\n",
    "                    connection_drawing_spec=iris_right_spec)\n",
    "\n",
    "        cv2.imshow('MediaPipe FaceMesh', image)\n",
    "        if cv2.waitKey(5) & 0xFF == 27:  # Press ESC to exit\n",
    "            break\n",
    "\n",
    "cap.release()\n",
    "cv2.destroyAllWindows()\n"
   ]
  },
  {
   "cell_type": "code",
   "execution_count": 12,
   "metadata": {},
   "outputs": [
    {
     "data": {
      "text/plain": [
       "[label_id: 0\n",
       " score: 0.877095103263855\n",
       " location_data {\n",
       "   format: RELATIVE_BOUNDING_BOX\n",
       "   relative_bounding_box {\n",
       "     xmin: 0.10766790807247162\n",
       "     ymin: 0.7125697135925293\n",
       "     width: 0.23828981816768646\n",
       "     height: 0.3177196979522705\n",
       "   }\n",
       "   relative_keypoints {\n",
       "     x: 0.13952085375785828\n",
       "     y: 0.8052065968513489\n",
       "   }\n",
       "   relative_keypoints {\n",
       "     x: 0.21205738186836243\n",
       "     y: 0.7913763523101807\n",
       "   }\n",
       "   relative_keypoints {\n",
       "     x: 0.13821113109588623\n",
       "     y: 0.8718910813331604\n",
       "   }\n",
       "   relative_keypoints {\n",
       "     x: 0.16117405891418457\n",
       "     y: 0.9413449168205261\n",
       "   }\n",
       "   relative_keypoints {\n",
       "     x: 0.16448329389095306\n",
       "     y: 0.8377744555473328\n",
       "   }\n",
       "   relative_keypoints {\n",
       "     x: 0.3400306701660156\n",
       "     y: 0.8140485286712646\n",
       "   }\n",
       " }]"
      ]
     },
     "execution_count": 12,
     "metadata": {},
     "output_type": "execute_result"
    }
   ],
   "source": [
    "results.detections"
   ]
  }
 ],
 "metadata": {
  "kernelspec": {
   "display_name": "Python 3",
   "language": "python",
   "name": "python3"
  },
  "language_info": {
   "codemirror_mode": {
    "name": "ipython",
    "version": 3
   },
   "file_extension": ".py",
   "mimetype": "text/x-python",
   "name": "python",
   "nbconvert_exporter": "python",
   "pygments_lexer": "ipython3",
   "version": "3.10.6"
  }
 },
 "nbformat": 4,
 "nbformat_minor": 2
}
